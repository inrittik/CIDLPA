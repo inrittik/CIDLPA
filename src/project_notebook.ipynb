{
 "cells": [
  {
   "cell_type": "markdown",
   "metadata": {},
   "source": [
    "# Project Notebook\n",
    "\n",
    "<!-- Here only the final output of the algo, its plots and evaluation metrics should be displayed -->"
   ]
  },
  {
   "cell_type": "code",
   "execution_count": 1,
   "metadata": {},
   "outputs": [
    {
     "name": "stdout",
     "output_type": "stream",
     "text": [
      "0.5244847909497243\n"
     ]
    }
   ],
   "source": [
    "import codeRunner\n",
    "\n",
    "mod = codeRunner.run_cidlpa('dolphins')\n",
    "print(mod)"
   ]
  },
  {
   "cell_type": "code",
   "execution_count": 2,
   "metadata": {},
   "outputs": [
    {
     "name": "stdout",
     "output_type": "stream",
     "text": [
      "0.6342592592592592\n"
     ]
    }
   ],
   "source": [
    "mod = codeRunner.run_cidlpa('karate')\n",
    "print(mod)"
   ]
  }
 ],
 "metadata": {
  "kernelspec": {
   "display_name": "Python 3.11.1 64-bit",
   "language": "python",
   "name": "python3"
  },
  "language_info": {
   "codemirror_mode": {
    "name": "ipython",
    "version": 3
   },
   "file_extension": ".py",
   "mimetype": "text/x-python",
   "name": "python",
   "nbconvert_exporter": "python",
   "pygments_lexer": "ipython3",
   "version": "3.11.1"
  },
  "orig_nbformat": 4,
  "vscode": {
   "interpreter": {
    "hash": "b5a1a5a6d67fdffc1b32330875868c5092a696b390006ed01b6701fcc90a6bf1"
   }
  }
 },
 "nbformat": 4,
 "nbformat_minor": 2
}
