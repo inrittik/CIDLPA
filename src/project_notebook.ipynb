{
 "cells": [
  {
   "attachments": {},
   "cell_type": "markdown",
   "metadata": {},
   "source": [
    "## Project Notebook for CIDLP Algorithm for Dynamic Community Detection\n",
    "\n",
    "<!-- Here only the final output of the algo, its plots and evaluation metrics should be displayed -->"
   ]
  },
  {
   "cell_type": "code",
   "execution_count": 7,
   "metadata": {},
   "outputs": [
    {
     "name": "stdout",
     "output_type": "stream",
     "text": [
      "Modularity:  0.5372809619872627\n",
      "Conductance:  0.7577639751552795\n",
      "Covarance:  0.7672955974842768\n",
      "ARI:  0.5192428196574228\n",
      "Cut Ratio:  0.24528301886792453\n"
     ]
    }
   ],
   "source": [
    "import codeRunner\n",
    "\n",
    "mod,cond,cov,ari,cut_ratio = codeRunner.run_cidlpa('dolphins')\n",
    "print(\"Modularity: \", mod)\n",
    "print(\"Conductance: \", cond)\n",
    "print(\"Covarance: \", cov)\n",
    "print(\"ARI: \", ari)\n",
    "print(\"Cut Ratio: \", cut_ratio)\n"
   ]
  },
  {
   "cell_type": "code",
   "execution_count": 3,
   "metadata": {},
   "outputs": [
    {
     "name": "stdout",
     "output_type": "stream",
     "text": [
      "Modularity:  0.6342592592592592\n",
      "Conductance:  0.9444444444444444\n",
      "Covarance:  0.9444444444444444\n",
      "ARI:  0.8299685126875347\n",
      "Cut Ratio:  0.05555555555555555\n"
     ]
    }
   ],
   "source": [
    "import codeRunner\n",
    "\n",
    "mod,cond,cov,ari,cut_ratio = codeRunner.run_cidlpa('karate')\n",
    "print(\"Modularity: \", mod)\n",
    "print(\"Conductance: \", cond)\n",
    "print(\"Covarance: \", cov)\n",
    "print(\"ARI: \", ari)\n",
    "print(\"Cut Ratio: \", cut_ratio)"
   ]
  },
  {
   "cell_type": "code",
   "execution_count": 4,
   "metadata": {},
   "outputs": [
    {
     "name": "stdout",
     "output_type": "stream",
     "text": [
      "Modularity:  0.29838016304537135\n",
      "Conductance:  0.4687701223438506\n",
      "Covarance:  0.48021108179419525\n",
      "ARI:  0.3010108868580365\n",
      "Cut Ratio:  0.5303430079155673\n"
     ]
    }
   ],
   "source": [
    "import codeRunner\n",
    "\n",
    "mod,cond,cov,ari,cut_ratio = codeRunner.run_cidlpa('highschool')\n",
    "print(\"Modularity: \", mod)\n",
    "print(\"Conductance: \", cond)\n",
    "print(\"Covarance: \", cov)\n",
    "print(\"ARI: \", ari)\n",
    "print(\"Cut Ratio: \", cut_ratio)"
   ]
  },
  {
   "cell_type": "code",
   "execution_count": 5,
   "metadata": {},
   "outputs": [
    {
     "name": "stdout",
     "output_type": "stream",
     "text": [
      "Modularity:  0.4637759046308282\n",
      "Conductance:  0.5008006405124099\n",
      "Covarance:  0.5008006405124099\n",
      "ARI:  0.38709080665129364\n",
      "Cut Ratio:  0.4991993594875901\n"
     ]
    }
   ],
   "source": [
    "import codeRunner\n",
    "\n",
    "mod,cond,cov,ari,cut_ratio = codeRunner.run_cidlpa('500Nodes')\n",
    "print(\"Modularity: \", mod)\n",
    "print(\"Conductance: \", cond)\n",
    "print(\"Covarance: \", cov)\n",
    "print(\"ARI: \", ari)\n",
    "print(\"Cut Ratio: \", cut_ratio)"
   ]
  },
  {
   "cell_type": "code",
   "execution_count": 6,
   "metadata": {},
   "outputs": [
    {
     "name": "stdout",
     "output_type": "stream",
     "text": [
      "Modularity:  0.4419285144175791\n",
      "Conductance:  0.448427929767252\n",
      "Covarance:  0.44842792976725193\n",
      "ARI:  0.2769678890877704\n",
      "Cut Ratio:  0.551572070232748\n"
     ]
    }
   ],
   "source": [
    "import codeRunner\n",
    "\n",
    "mod,cond,cov,ari,cut_ratio = codeRunner.run_cidlpa('2500Nodes')\n",
    "print(\"Modularity: \", mod)\n",
    "print(\"Conductance: \", cond)\n",
    "print(\"Covarance: \", cov)\n",
    "print(\"ARI: \", ari)\n",
    "print(\"Cut Ratio: \", cut_ratio)"
   ]
  },
  {
   "cell_type": "code",
   "execution_count": 8,
   "metadata": {},
   "outputs": [
    {
     "name": "stdout",
     "output_type": "stream",
     "text": [
      "Modularity:  0.3086090149489886\n",
      "Conductance:  0.6628154454241411\n",
      "Covarance:  0.6628154454241411\n",
      "ARI:  0.33344675048539457\n",
      "Cut Ratio:  0.33718455457585894\n"
     ]
    }
   ],
   "source": [
    "import codeRunner\n",
    "\n",
    "mod,cond,cov,ari,cut_ratio = codeRunner.run_cidlpa('primaryschool')\n",
    "print(\"Modularity: \", mod)\n",
    "print(\"Conductance: \", cond)\n",
    "print(\"Covarance: \", cov)\n",
    "print(\"ARI: \", ari)\n",
    "print(\"Cut Ratio: \", cut_ratio)"
   ]
  },
  {
   "cell_type": "code",
   "execution_count": 1,
   "metadata": {},
   "outputs": [
    {
     "name": "stdout",
     "output_type": "stream",
     "text": [
      "Modularity:  0.54552932062658\n",
      "Conductance:  0.5487128225187246\n",
      "Covarance:  0.6073765234124439\n",
      "ARI:  0.33789666277205266\n",
      "Cut Ratio:  0.4848941629249519\n"
     ]
    }
   ],
   "source": [
    "import codeRunner\n",
    "\n",
    "mod,cond,cov,ari,cut_ratio = codeRunner.run_cidlpa('oregon2')\n",
    "print(\"Modularity: \", mod)\n",
    "print(\"Conductance: \", cond)\n",
    "print(\"Covarance: \", cov)\n",
    "print(\"ARI: \", ari)\n",
    "print(\"Cut Ratio: \", cut_ratio)"
   ]
  }
 ],
 "metadata": {
  "kernelspec": {
   "display_name": "Python 3.11.1 64-bit",
   "language": "python",
   "name": "python3"
  },
  "language_info": {
   "codemirror_mode": {
    "name": "ipython",
    "version": 3
   },
   "file_extension": ".py",
   "mimetype": "text/x-python",
   "name": "python",
   "nbconvert_exporter": "python",
   "pygments_lexer": "ipython3",
   "version": "3.10.5"
  },
  "orig_nbformat": 4,
  "vscode": {
   "interpreter": {
    "hash": "b5a1a5a6d67fdffc1b32330875868c5092a696b390006ed01b6701fcc90a6bf1"
   }
  }
 },
 "nbformat": 4,
 "nbformat_minor": 2
}
