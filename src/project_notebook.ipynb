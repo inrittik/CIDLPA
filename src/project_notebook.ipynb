{
 "cells": [
  {
   "cell_type": "markdown",
   "metadata": {},
   "source": [
    "# Project Notebook\n",
    "\n",
    "<!-- Here only the final output of the algo, its plots and evaluation metrics should be displayed -->"
   ]
  },
  {
   "cell_type": "code",
   "execution_count": 3,
   "metadata": {},
   "outputs": [
    {
     "ename": "IndexError",
     "evalue": "index 114 is out of bounds for axis 0 with size 106",
     "output_type": "error",
     "traceback": [
      "\u001b[1;31m---------------------------------------------------------------------------\u001b[0m",
      "\u001b[1;31mIndexError\u001b[0m                                Traceback (most recent call last)",
      "Cell \u001b[1;32mIn[3], line 1\u001b[0m\n\u001b[1;32m----> 1\u001b[0m \u001b[39mimport\u001b[39;00m \u001b[39mcodeRunner\u001b[39;00m\n\u001b[0;32m      3\u001b[0m mod \u001b[39m=\u001b[39m codeRunner\u001b[39m.\u001b[39mrun_cidlpa(\u001b[39m'\u001b[39m\u001b[39mdolphins\u001b[39m\u001b[39m'\u001b[39m)\n\u001b[0;32m      4\u001b[0m \u001b[39mprint\u001b[39m(mod)\n",
      "File \u001b[1;32md:\\CommunityDetection\\CIDLPA\\src\\codeRunner.py:32\u001b[0m\n\u001b[0;32m     29\u001b[0m     new_path \u001b[39m=\u001b[39m os\u001b[39m.\u001b[39mpath\u001b[39m.\u001b[39mjoin(cur_path, \u001b[39m'\u001b[39m\u001b[39mdataset\u001b[39m\u001b[39m'\u001b[39m, datasetName)\n\u001b[0;32m     30\u001b[0m     \u001b[39mreturn\u001b[39;00m execFile(new_path)\n\u001b[1;32m---> 32\u001b[0m run_cidlpa(\u001b[39m'\u001b[39;49m\u001b[39mhighschool\u001b[39;49m\u001b[39m'\u001b[39;49m)\n",
      "File \u001b[1;32md:\\CommunityDetection\\CIDLPA\\src\\codeRunner.py:30\u001b[0m, in \u001b[0;36mrun_cidlpa\u001b[1;34m(datasetName)\u001b[0m\n\u001b[0;32m     28\u001b[0m \u001b[39mdef\u001b[39;00m \u001b[39mrun_cidlpa\u001b[39m(datasetName):\n\u001b[0;32m     29\u001b[0m     new_path \u001b[39m=\u001b[39m os\u001b[39m.\u001b[39mpath\u001b[39m.\u001b[39mjoin(cur_path, \u001b[39m'\u001b[39m\u001b[39mdataset\u001b[39m\u001b[39m'\u001b[39m, datasetName)\n\u001b[1;32m---> 30\u001b[0m     \u001b[39mreturn\u001b[39;00m execFile(new_path)\n",
      "File \u001b[1;32md:\\CommunityDetection\\CIDLPA\\src\\codeRunner.py:26\u001b[0m, in \u001b[0;36mexecFile\u001b[1;34m(filename)\u001b[0m\n\u001b[0;32m     24\u001b[0m adj \u001b[39m=\u001b[39m nx\u001b[39m.\u001b[39mto_numpy_array(G)\n\u001b[0;32m     25\u001b[0m adj_matrix \u001b[39m=\u001b[39m np\u001b[39m.\u001b[39marray(adj)\n\u001b[1;32m---> 26\u001b[0m \u001b[39mreturn\u001b[39;00m metric\u001b[39m.\u001b[39;49mcalculate_modularity(adj_matrix, data)\n",
      "File \u001b[1;32md:\\CommunityDetection\\CIDLPA\\src\\metric.py:16\u001b[0m, in \u001b[0;36mcalculate_modularity\u001b[1;34m(adj_matrix, communities)\u001b[0m\n\u001b[0;32m     14\u001b[0m     delta \u001b[39m=\u001b[39m \u001b[39m0\u001b[39m\n\u001b[0;32m     15\u001b[0m ki \u001b[39m=\u001b[39m adj_matrix[communities[i], :]\u001b[39m.\u001b[39msum()\n\u001b[1;32m---> 16\u001b[0m kj \u001b[39m=\u001b[39m adj_matrix[communities[j], :]\u001b[39m.\u001b[39msum()\n\u001b[0;32m     17\u001b[0m eij \u001b[39m=\u001b[39m adj_matrix[np\u001b[39m.\u001b[39mix_(communities[i], communities[j])]\u001b[39m.\u001b[39msum()\n\u001b[0;32m     18\u001b[0m aij \u001b[39m=\u001b[39m (ki \u001b[39m*\u001b[39m kj) \u001b[39m/\u001b[39m (\u001b[39m2\u001b[39m \u001b[39m*\u001b[39m m)\n",
      "\u001b[1;31mIndexError\u001b[0m: index 114 is out of bounds for axis 0 with size 106"
     ]
    }
   ],
   "source": [
    "import codeRunner\n",
    "\n",
    "mod = codeRunner.run_cidlpa('dolphins')\n",
    "print(mod)"
   ]
  },
  {
   "cell_type": "code",
   "execution_count": 2,
   "metadata": {},
   "outputs": [
    {
     "ename": "IndexError",
     "evalue": "index 13 is out of bounds for axis 0 with size 13",
     "output_type": "error",
     "traceback": [
      "\u001b[1;31m---------------------------------------------------------------------------\u001b[0m",
      "\u001b[1;31mIndexError\u001b[0m                                Traceback (most recent call last)",
      "Cell \u001b[1;32mIn[2], line 1\u001b[0m\n\u001b[1;32m----> 1\u001b[0m mod \u001b[39m=\u001b[39m codeRunner\u001b[39m.\u001b[39;49mrun_cidlpa(\u001b[39m'\u001b[39;49m\u001b[39mkarate\u001b[39;49m\u001b[39m'\u001b[39;49m)\n\u001b[0;32m      2\u001b[0m \u001b[39mprint\u001b[39m(mod)\n",
      "File \u001b[1;32md:\\CommunityDetection\\CIDLPA\\src\\codeRunner.py:30\u001b[0m, in \u001b[0;36mrun_cidlpa\u001b[1;34m(datasetName)\u001b[0m\n\u001b[0;32m     28\u001b[0m \u001b[39mdef\u001b[39;00m \u001b[39mrun_cidlpa\u001b[39m(datasetName):\n\u001b[0;32m     29\u001b[0m     new_path \u001b[39m=\u001b[39m os\u001b[39m.\u001b[39mpath\u001b[39m.\u001b[39mjoin(cur_path, \u001b[39m'\u001b[39m\u001b[39mdataset\u001b[39m\u001b[39m'\u001b[39m, datasetName)\n\u001b[1;32m---> 30\u001b[0m     \u001b[39mreturn\u001b[39;00m execFile(new_path)\n",
      "File \u001b[1;32md:\\CommunityDetection\\CIDLPA\\src\\codeRunner.py:26\u001b[0m, in \u001b[0;36mexecFile\u001b[1;34m(filename)\u001b[0m\n\u001b[0;32m     24\u001b[0m adj \u001b[39m=\u001b[39m nx\u001b[39m.\u001b[39mto_numpy_array(G)\n\u001b[0;32m     25\u001b[0m adj_matrix \u001b[39m=\u001b[39m np\u001b[39m.\u001b[39marray(adj)\n\u001b[1;32m---> 26\u001b[0m \u001b[39mreturn\u001b[39;00m metric\u001b[39m.\u001b[39;49mcalculate_modularity(adj_matrix, data)\n",
      "File \u001b[1;32md:\\CommunityDetection\\CIDLPA\\src\\metric.py:14\u001b[0m, in \u001b[0;36mcalculate_modularity\u001b[1;34m(adj_matrix, communities)\u001b[0m\n\u001b[0;32m     12\u001b[0m \u001b[39melse\u001b[39;00m:\n\u001b[0;32m     13\u001b[0m     delta \u001b[39m=\u001b[39m \u001b[39m0\u001b[39m\n\u001b[1;32m---> 14\u001b[0m ki \u001b[39m=\u001b[39m adj_matrix[communities[i], :]\u001b[39m.\u001b[39msum()\n\u001b[0;32m     15\u001b[0m kj \u001b[39m=\u001b[39m adj_matrix[communities[j], :]\u001b[39m.\u001b[39msum()\n\u001b[0;32m     16\u001b[0m eij \u001b[39m=\u001b[39m adj_matrix[np\u001b[39m.\u001b[39mix_(communities[i], communities[j])]\u001b[39m.\u001b[39msum()\n",
      "\u001b[1;31mIndexError\u001b[0m: index 13 is out of bounds for axis 0 with size 13"
     ]
    }
   ],
   "source": [
    "mod = codeRunner.run_cidlpa('karate')\n",
    "print(mod)"
   ]
  }
 ],
 "metadata": {
  "kernelspec": {
   "display_name": "Python 3.11.1 64-bit",
   "language": "python",
   "name": "python3"
  },
  "language_info": {
   "codemirror_mode": {
    "name": "ipython",
    "version": 3
   },
   "file_extension": ".py",
   "mimetype": "text/x-python",
   "name": "python",
   "nbconvert_exporter": "python",
   "pygments_lexer": "ipython3",
   "version": "3.11.1"
  },
  "orig_nbformat": 4,
  "vscode": {
   "interpreter": {
    "hash": "b5a1a5a6d67fdffc1b32330875868c5092a696b390006ed01b6701fcc90a6bf1"
   }
  }
 },
 "nbformat": 4,
 "nbformat_minor": 2
}
